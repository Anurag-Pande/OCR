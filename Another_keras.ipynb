{
 "cells": [
  {
   "cell_type": "code",
   "execution_count": 60,
   "metadata": {},
   "outputs": [],
   "source": [
    "from PIL import Image, ImageOps\n",
    "import tensorflow as tf\n",
    "\n",
    "import glob\n",
    "from sklearn.datasets import make_blobs\n",
    "from sklearn.model_selection import train_test_split\n",
    "import matplotlib.pyplot as plt\n",
    "import numpy as np\n",
    "import cv2\n",
    "import os\n",
    "from skimage.feature import hog\n",
    "import random\n",
    "import pickle\n",
    "\n",
    "from sklearn.preprocessing import MinMaxScaler\n",
    "from sklearn.metrics import accuracy_score\n",
    "from sklearn.pipeline import make_pipeline\n",
    "from keras.models import load_model\n",
    "from sklearn import metrics"
   ]
  },
  {
   "cell_type": "code",
   "execution_count": 61,
   "metadata": {},
   "outputs": [],
   "source": [
    "IMG_SIZE=28\n",
    "#training image path\n",
    "DATADIR = \"D://PyProject//Training\"    \n",
    "CATEGORIES = ['char_a', 'char_b','char_c','char_d','char_e','char_f']\n",
    "training_data = []\n",
    "Final_arr = []\n",
    "#feat_data1 = []"
   ]
  },
  {
   "cell_type": "code",
   "execution_count": 62,
   "metadata": {},
   "outputs": [],
   "source": [
    "def create_training_data():#this inlcudes preprocessing steps : Grayscaling and Binarization\n",
    "    for category in CATEGORIES:\n",
    "\n",
    "        path = os.path.join(DATADIR, category)  # path to a and b\n",
    "        class_num = CATEGORIES.index(category)\n",
    "        for img in os.listdir(path):\n",
    "            #i=i+1\n",
    "            try:\n",
    "\n",
    "                #GrayScaling\n",
    "                img_array = cv2.imread(os.path.join(path, img), cv2.IMREAD_GRAYSCALE)\n",
    "                reh1, th1 = cv2.threshold(img_array, 0, 255,cv2.THRESH_BINARY+cv2.THRESH_OTSU)\n",
    "                Final_arr = cv2.resize(th1, (IMG_SIZE, IMG_SIZE))\n",
    "                training_data.append([Final_arr, class_num])\n",
    "            except Exception as e:\n",
    "                pass\n",
    "            \n",
    "create_training_data()"
   ]
  },
  {
   "cell_type": "code",
   "execution_count": 63,
   "metadata": {},
   "outputs": [
    {
     "name": "stdout",
     "output_type": "stream",
     "text": [
      "Shape:  (556, 2)\n",
      "Total:  556\n"
     ]
    }
   ],
   "source": [
    "print('Shape: ',np.shape(training_data))\n",
    "print('Total: ',len(training_data))"
   ]
  },
  {
   "cell_type": "code",
   "execution_count": 64,
   "metadata": {},
   "outputs": [
    {
     "name": "stdout",
     "output_type": "stream",
     "text": [
      "556\n"
     ]
    }
   ],
   "source": [
    "#training_data=feat_data1\n",
    "no_of_data = len(training_data)\n",
    "print(no_of_data)"
   ]
  },
  {
   "cell_type": "code",
   "execution_count": 65,
   "metadata": {},
   "outputs": [
    {
     "name": "stdout",
     "output_type": "stream",
     "text": [
      "(556, 28, 28)\n",
      "(556,)\n"
     ]
    }
   ],
   "source": [
    "X = []\n",
    "y = []\n",
    "for  features,label in training_data:\n",
    "    X.append(features)\n",
    "    y.append(label)\n",
    "\n",
    "print(np.shape(X))\n",
    "print(np.shape(y))\n",
    "#print(X)\n",
    "#X = np.array([X]).reshape(no_of_data,IMG_SIZE*IMG_SIZE)  # last one is because img is grayscaled(#27, 576)\n",
    "#y = np.array([y]).reshape(no_of_data,)\n"
   ]
  },
  {
   "cell_type": "code",
   "execution_count": 66,
   "metadata": {},
   "outputs": [
    {
     "name": "stdout",
     "output_type": "stream",
     "text": [
      "(444, 28, 28)\n"
     ]
    }
   ],
   "source": [
    "X_train, X_test, y_train, y_test = train_test_split(X, y, test_size=0.20)\n",
    "print(np.shape(X_train))\n",
    "y_train[0]\n",
    "X_train = np.array(X_train) \n",
    "X_test = np.array(X_test) \n",
    "y_train = np.array(y_train) \n",
    "y_test = np.array(y_test) "
   ]
  },
  {
   "cell_type": "code",
   "execution_count": 67,
   "metadata": {},
   "outputs": [
    {
     "data": {
      "image/png": "[encoded data removed]",
      "text/plain": [
       "<Figure size 432x288 with 1 Axes>"
      ]
     },
     "metadata": {
      "needs_background": "light"
     },
     "output_type": "display_data"
    },
    {
     "data": {
      "text/plain": [
       "<matplotlib.image.AxesImage at 0x2b7757c2d68>"
      ]
     },
     "execution_count": 67,
     "metadata": {},
     "output_type": "execute_result"
    },
    {
     "data": {
      "image/png": "[encoded data removed]",
      "text/plain": [
       "<Figure size 432x288 with 1 Axes>"
      ]
     },
     "metadata": {
      "needs_background": "light"
     },
     "output_type": "display_data"
    }
   ],
   "source": [
    "%matplotlib inline\n",
    "plt.imshow(X_train[0])\n",
    "plt.show()\n",
    "plt.imshow(X_train[0], cmap = plt.cm.binary)"
   ]
  },
  {
   "cell_type": "code",
   "execution_count": 68,
   "metadata": {},
   "outputs": [
    {
     "data": {
      "text/plain": [
       "<matplotlib.image.AxesImage at 0x2b7758236d8>"
      ]
     },
     "execution_count": 68,
     "metadata": {},
     "output_type": "execute_result"
    },
    {
     "data": {
      "image/png": "[encoded data removed]",
      "text/plain": [
       "<Figure size 432x288 with 1 Axes>"
      ]
     },
     "metadata": {
      "needs_background": "light"
     },
     "output_type": "display_data"
    }
   ],
   "source": [
    "from keras.utils import np_utils\n",
    "X_train = tf.keras.utils.normalize(X_train, axis=1)\n",
    "X_test = tf.keras.utils.normalize(X_test, axis = 1)\n",
    "plt.imshow(X_train[0], cmap = plt.cm.binary)"
   ]
  },
  {
   "cell_type": "code",
   "execution_count": 69,
   "metadata": {},
   "outputs": [
    {
     "name": "stdout",
     "output_type": "stream",
     "text": [
      "Training samples dimension:  (444, 28, 28, 1)\n",
      "Testing samples dimension:  (112, 28, 28, 1)\n"
     ]
    }
   ],
   "source": [
    "X_trainr = np.array(X_train).reshape(-1, IMG_SIZE, IMG_SIZE, 1)\n",
    "X_testr = np.array(X_test).reshape(-1, IMG_SIZE, IMG_SIZE, 1)\n",
    "print('Training samples dimension: ', X_trainr.shape)\n",
    "print('Testing samples dimension: ', X_testr.shape)"
   ]
  },
  {
   "cell_type": "code",
   "execution_count": 70,
   "metadata": {},
   "outputs": [],
   "source": [
    "from tensorflow.keras.models import Sequential\n",
    "from tensorflow.keras.layers import  Dense, Dropout, Activation, Flatten, Conv2D, MaxPooling2D"
   ]
  },
  {
   "cell_type": "code",
   "execution_count": 71,
   "metadata": {},
   "outputs": [],
   "source": [
    "model = Sequential()\n",
    "model.add(Conv2D(64, (3,3), input_shape = X_trainr.shape[1:]))\n",
    "model.add(Activation('relu'))\n",
    "model.add(MaxPooling2D(pool_size= (2,2)))\n",
    "\n",
    "model.add(Conv2D(64, (3,3), input_shape = X_trainr.shape[1:]))\n",
    "model.add(Activation('relu'))\n",
    "model.add(MaxPooling2D(pool_size= (2,2)))\n",
    "\n",
    "model.add(Conv2D(64, (3,3), input_shape = X_trainr.shape[1:]))\n",
    "model.add(Activation('relu'))\n",
    "model.add(MaxPooling2D( pool_size = (2,2)))\n",
    "\n",
    "model.add(Flatten())\n",
    "model.add(Dense(64))\n",
    "model.add(Activation('relu'))\n",
    "\n",
    "\n",
    "model.add(Dense(32))\n",
    "model.add(Activation('relu'))\n",
    "\n",
    "\n",
    "model.add(Dense(6))\n",
    "model.add(Activation('softmax'))"
   ]
  },
  {
   "cell_type": "code",
   "execution_count": 72,
   "metadata": {},
   "outputs": [
    {
     "name": "stdout",
     "output_type": "stream",
     "text": [
      "Model: \"sequential_3\"\n",
      "_________________________________________________________________\n",
      "Layer (type)                 Output Shape              Param #   \n",
      "=================================================================\n",
      "conv2d_9 (Conv2D)            (None, 26, 26, 64)        640       \n",
      "_________________________________________________________________\n",
      "activation_18 (Activation)   (None, 26, 26, 64)        0         \n",
      "_________________________________________________________________\n",
      "max_pooling2d_9 (MaxPooling2 (None, 13, 13, 64)        0         \n",
      "_________________________________________________________________\n",
      "conv2d_10 (Conv2D)           (None, 11, 11, 64)        36928     \n",
      "_________________________________________________________________\n",
      "activation_19 (Activation)   (None, 11, 11, 64)        0         \n",
      "_________________________________________________________________\n",
      "max_pooling2d_10 (MaxPooling (None, 5, 5, 64)          0         \n",
      "_________________________________________________________________\n",
      "conv2d_11 (Conv2D)           (None, 3, 3, 64)          36928     \n",
      "_________________________________________________________________\n",
      "activation_20 (Activation)   (None, 3, 3, 64)          0         \n",
      "_________________________________________________________________\n",
      "max_pooling2d_11 (MaxPooling (None, 1, 1, 64)          0         \n",
      "_________________________________________________________________\n",
      "flatten_3 (Flatten)          (None, 64)                0         \n",
      "_________________________________________________________________\n",
      "dense_9 (Dense)              (None, 64)                4160      \n",
      "_________________________________________________________________\n",
      "activation_21 (Activation)   (None, 64)                0         \n",
      "_________________________________________________________________\n",
      "dense_10 (Dense)             (None, 32)                2080      \n",
      "_________________________________________________________________\n",
      "activation_22 (Activation)   (None, 32)                0         \n",
      "_________________________________________________________________\n",
      "dense_11 (Dense)             (None, 6)                 198       \n",
      "_________________________________________________________________\n",
      "activation_23 (Activation)   (None, 6)                 0         \n",
      "=================================================================\n",
      "Total params: 80,934\n",
      "Trainable params: 80,934\n",
      "Non-trainable params: 0\n",
      "_________________________________________________________________\n"
     ]
    }
   ],
   "source": [
    "model.summary()"
   ]
  },
  {
   "cell_type": "code",
   "execution_count": 73,
   "metadata": {},
   "outputs": [],
   "source": [
    "model.compile(loss = 'sparse_categorical_crossentropy', optimizer = 'adam', metrics = ['accuracy'])"
   ]
  },
  {
   "cell_type": "code",
   "execution_count": 74,
   "metadata": {},
   "outputs": [
    {
     "name": "stdout",
     "output_type": "stream",
     "text": [
      "Epoch 1/44\n",
      "10/10 [==============================] - 1s 39ms/step - loss: 1.7568 - accuracy: 0.2548 - val_loss: 1.7441 - val_accuracy: 0.1940\n",
      "Epoch 2/44\n",
      "10/10 [==============================] - 0s 24ms/step - loss: 1.7090 - accuracy: 0.2516 - val_loss: 1.7250 - val_accuracy: 0.1940\n",
      "Epoch 3/44\n",
      "10/10 [==============================] - 0s 27ms/step - loss: 1.6944 - accuracy: 0.2516 - val_loss: 1.7176 - val_accuracy: 0.1940\n",
      "Epoch 4/44\n",
      "10/10 [==============================] - 0s 27ms/step - loss: 1.6902 - accuracy: 0.2516 - val_loss: 1.7048 - val_accuracy: 0.1940\n",
      "Epoch 5/44\n",
      "10/10 [==============================] - 0s 25ms/step - loss: 1.6780 - accuracy: 0.2516 - val_loss: 1.6906 - val_accuracy: 0.1940\n",
      "Epoch 6/44\n",
      "10/10 [==============================] - 0s 25ms/step - loss: 1.6733 - accuracy: 0.2484 - val_loss: 1.6748 - val_accuracy: 0.2612\n",
      "Epoch 7/44\n",
      "10/10 [==============================] - 0s 27ms/step - loss: 1.6508 - accuracy: 0.2613 - val_loss: 1.6525 - val_accuracy: 0.1866\n",
      "Epoch 8/44\n",
      "10/10 [==============================] - 0s 32ms/step - loss: 1.6065 - accuracy: 0.2710 - val_loss: 1.5933 - val_accuracy: 0.2687\n",
      "Epoch 9/44\n",
      "10/10 [==============================] - 0s 31ms/step - loss: 1.5459 - accuracy: 0.3032 - val_loss: 1.5026 - val_accuracy: 0.3881\n",
      "Epoch 10/44\n",
      "10/10 [==============================] - 0s 30ms/step - loss: 1.4712 - accuracy: 0.3484 - val_loss: 1.4511 - val_accuracy: 0.3955\n",
      "Epoch 11/44\n",
      "10/10 [==============================] - 0s 32ms/step - loss: 1.3788 - accuracy: 0.3742 - val_loss: 1.3374 - val_accuracy: 0.4328\n",
      "Epoch 12/44\n",
      "10/10 [==============================] - 0s 31ms/step - loss: 1.2942 - accuracy: 0.4355 - val_loss: 1.2771 - val_accuracy: 0.4701\n",
      "Epoch 13/44\n",
      "10/10 [==============================] - 0s 34ms/step - loss: 1.2289 - accuracy: 0.5097 - val_loss: 1.2017 - val_accuracy: 0.5522\n",
      "Epoch 14/44\n",
      "10/10 [==============================] - 0s 33ms/step - loss: 1.1458 - accuracy: 0.5710 - val_loss: 1.1344 - val_accuracy: 0.5746\n",
      "Epoch 15/44\n",
      "10/10 [==============================] - 0s 27ms/step - loss: 1.0541 - accuracy: 0.5871 - val_loss: 1.1238 - val_accuracy: 0.5522\n",
      "Epoch 16/44\n",
      "10/10 [==============================] - 0s 29ms/step - loss: 1.0506 - accuracy: 0.5839 - val_loss: 1.0547 - val_accuracy: 0.5821\n",
      "Epoch 17/44\n",
      "10/10 [==============================] - 0s 26ms/step - loss: 1.0167 - accuracy: 0.5871 - val_loss: 0.9935 - val_accuracy: 0.6269\n",
      "Epoch 18/44\n",
      "10/10 [==============================] - 0s 31ms/step - loss: 0.9150 - accuracy: 0.6419 - val_loss: 0.9559 - val_accuracy: 0.6269\n",
      "Epoch 19/44\n",
      "10/10 [==============================] - 0s 30ms/step - loss: 0.7962 - accuracy: 0.7387 - val_loss: 0.8750 - val_accuracy: 0.6269\n",
      "Epoch 20/44\n",
      "10/10 [==============================] - 0s 24ms/step - loss: 0.7437 - accuracy: 0.7387 - val_loss: 0.7847 - val_accuracy: 0.6791\n",
      "Epoch 21/44\n",
      "10/10 [==============================] - 0s 31ms/step - loss: 0.6184 - accuracy: 0.8065 - val_loss: 0.8042 - val_accuracy: 0.6866\n",
      "Epoch 22/44\n",
      "10/10 [==============================] - 0s 29ms/step - loss: 0.5351 - accuracy: 0.8355 - val_loss: 0.7322 - val_accuracy: 0.7463\n",
      "Epoch 23/44\n",
      "10/10 [==============================] - 0s 29ms/step - loss: 0.4584 - accuracy: 0.8677 - val_loss: 0.6370 - val_accuracy: 0.7687\n",
      "Epoch 24/44\n",
      "10/10 [==============================] - 0s 29ms/step - loss: 0.3933 - accuracy: 0.9032 - val_loss: 0.6136 - val_accuracy: 0.8060\n",
      "Epoch 25/44\n",
      "10/10 [==============================] - 0s 26ms/step - loss: 0.3537 - accuracy: 0.9032 - val_loss: 0.6069 - val_accuracy: 0.7761\n",
      "Epoch 26/44\n",
      "10/10 [==============================] - 0s 24ms/step - loss: 0.3173 - accuracy: 0.9194 - val_loss: 0.6627 - val_accuracy: 0.7463\n",
      "Epoch 27/44\n",
      "10/10 [==============================] - 0s 27ms/step - loss: 0.2621 - accuracy: 0.9387 - val_loss: 0.5764 - val_accuracy: 0.7761\n",
      "Epoch 28/44\n",
      "10/10 [==============================] - 0s 25ms/step - loss: 0.2262 - accuracy: 0.9419 - val_loss: 0.5284 - val_accuracy: 0.8582\n",
      "Epoch 29/44\n",
      "10/10 [==============================] - 0s 26ms/step - loss: 0.2008 - accuracy: 0.9548 - val_loss: 0.5375 - val_accuracy: 0.8134\n",
      "Epoch 30/44\n",
      "10/10 [==============================] - 0s 26ms/step - loss: 0.1914 - accuracy: 0.9581 - val_loss: 0.7212 - val_accuracy: 0.7388\n",
      "Epoch 31/44\n",
      "10/10 [==============================] - 0s 25ms/step - loss: 0.1870 - accuracy: 0.9548 - val_loss: 0.5830 - val_accuracy: 0.8060\n",
      "Epoch 32/44\n",
      "10/10 [==============================] - 0s 28ms/step - loss: 0.1671 - accuracy: 0.9581 - val_loss: 0.5830 - val_accuracy: 0.8433\n",
      "Epoch 33/44\n",
      "10/10 [==============================] - 0s 26ms/step - loss: 0.1552 - accuracy: 0.9613 - val_loss: 0.5981 - val_accuracy: 0.8358\n",
      "Epoch 34/44\n",
      "10/10 [==============================] - 0s 24ms/step - loss: 0.1462 - accuracy: 0.9548 - val_loss: 0.5512 - val_accuracy: 0.8433\n",
      "Epoch 35/44\n",
      "10/10 [==============================] - 0s 26ms/step - loss: 0.1601 - accuracy: 0.9516 - val_loss: 0.6162 - val_accuracy: 0.7985\n",
      "Epoch 36/44\n",
      "10/10 [==============================] - 0s 29ms/step - loss: 0.1047 - accuracy: 0.9710 - val_loss: 0.6119 - val_accuracy: 0.7985\n",
      "Epoch 37/44\n",
      "10/10 [==============================] - 0s 25ms/step - loss: 0.0984 - accuracy: 0.9742 - val_loss: 0.5778 - val_accuracy: 0.8582\n",
      "Epoch 38/44\n",
      "10/10 [==============================] - 0s 24ms/step - loss: 0.0761 - accuracy: 0.9871 - val_loss: 0.6688 - val_accuracy: 0.7761\n",
      "Epoch 39/44\n",
      "10/10 [==============================] - 0s 24ms/step - loss: 0.0733 - accuracy: 0.9871 - val_loss: 0.5901 - val_accuracy: 0.8657\n",
      "Epoch 40/44\n",
      "10/10 [==============================] - 0s 24ms/step - loss: 0.0659 - accuracy: 0.9871 - val_loss: 0.6022 - val_accuracy: 0.8433\n",
      "Epoch 41/44\n",
      "10/10 [==============================] - 0s 23ms/step - loss: 0.0539 - accuracy: 0.9903 - val_loss: 0.5691 - val_accuracy: 0.8209\n",
      "Epoch 42/44\n",
      "10/10 [==============================] - 0s 23ms/step - loss: 0.0596 - accuracy: 0.9871 - val_loss: 0.6509 - val_accuracy: 0.8358\n",
      "Epoch 43/44\n",
      "10/10 [==============================] - 0s 23ms/step - loss: 0.0753 - accuracy: 0.9806 - val_loss: 0.7858 - val_accuracy: 0.7910\n",
      "Epoch 44/44\n",
      "10/10 [==============================] - 0s 22ms/step - loss: 0.0724 - accuracy: 0.9871 - val_loss: 0.6865 - val_accuracy: 0.8060\n"
     ]
    },
    {
     "data": {
      "text/plain": [
       "<keras.callbacks.History at 0x2b7758b2ac8>"
      ]
     },
     "execution_count": 74,
     "metadata": {},
     "output_type": "execute_result"
    }
   ],
   "source": [
    "model.fit(X_trainr, y_train, epochs = 44, validation_split = 0.3)"
   ]
  },
  {
   "cell_type": "code",
   "execution_count": 75,
   "metadata": {},
   "outputs": [
    {
     "data": {
      "text/plain": [
       "\"path = 'C:/Users/Anurag/OneDrive/Desktop/another_b.png'\\nimg = cv2.imread(path, cv2.IMREAD_GRAYSCALE)\\nimg1 = cv2.resize(img, (IMG_SIZE, IMG_SIZE), interpolation = cv2.INTER_AREA)\\nreh2, th2 = cv2.threshold(img1, 0, 255,cv2.THRESH_BINARY+cv2.THRESH_OTSU)\\nim2 = tf.keras.utils.normalize(th2, axis = 1)\\nplt.imshow(img1)\""
      ]
     },
     "execution_count": 75,
     "metadata": {},
     "output_type": "execute_result"
    }
   ],
   "source": [
    "'''path = 'C:/Users/Anurag/OneDrive/Desktop/another_b.png'\n",
    "img = cv2.imread(path, cv2.IMREAD_GRAYSCALE)\n",
    "img1 = cv2.resize(img, (IMG_SIZE, IMG_SIZE), interpolation = cv2.INTER_AREA)\n",
    "reh2, th2 = cv2.threshold(img1, 0, 255,cv2.THRESH_BINARY+cv2.THRESH_OTSU)\n",
    "im2 = tf.keras.utils.normalize(th2, axis = 1)\n",
    "plt.imshow(img1)'''"
   ]
  },
  {
   "cell_type": "code",
   "execution_count": 76,
   "metadata": {},
   "outputs": [
    {
     "data": {
      "text/plain": [
       "'im2 = np.array(im2).reshape(-1, IMG_SIZE, IMG_SIZE, 1)\\npred  = model1.predict(im2)\\nprint(np.argmax(pred))\\np = np.argmax(pred)\\nif(p == [0]):\\n    print(\\'Character a identified.\\')\\nelif(p == [1]):\\n    print(\"Character b identifed.\")\\nelif(p == [2]):\\n    print(\"Character c identifed.\")'"
      ]
     },
     "execution_count": 76,
     "metadata": {},
     "output_type": "execute_result"
    }
   ],
   "source": [
    "'''im2 = np.array(im2).reshape(-1, IMG_SIZE, IMG_SIZE, 1)\n",
    "pred  = model1.predict(im2)\n",
    "print(np.argmax(pred))\n",
    "p = np.argmax(pred)\n",
    "if(p == [0]):\n",
    "    print('Character a identified.')\n",
    "elif(p == [1]):\n",
    "    print(\"Character b identifed.\")\n",
    "elif(p == [2]):\n",
    "    print(\"Character c identifed.\")'''"
   ]
  },
  {
   "cell_type": "code",
   "execution_count": 77,
   "metadata": {},
   "outputs": [],
   "source": [
    "def predd(path):\n",
    "    img = cv2.imread(path, cv2.IMREAD_GRAYSCALE)\n",
    "    img1 = cv2.resize(img, (IMG_SIZE, IMG_SIZE), interpolation = cv2.INTER_AREA)\n",
    "    reh2, th2 = cv2.threshold(img1, 0, 255,cv2.THRESH_BINARY+cv2.THRESH_OTSU)\n",
    "    im2 = tf.keras.utils.normalize(th2, axis = 1)\n",
    "    im2 = np.array(im2).reshape(-1, IMG_SIZE, IMG_SIZE, 1)\n",
    "    pred  = model1.predict(im2)\n",
    "    predicted = np.argmax(pred)\n",
    "    \n",
    "    return predicted\n",
    "    #plt.imshow(img1)"
   ]
  },
  {
   "cell_type": "code",
   "execution_count": 78,
   "metadata": {},
   "outputs": [],
   "source": [
    "#pickle.dump(model1,open('my_model.pkl','wb'))\n",
    "model.save('my_model.h5')"
   ]
  },
  {
   "cell_type": "code",
   "execution_count": null,
   "metadata": {},
   "outputs": [],
   "source": []
  }
 ],
 "metadata": {
  "kernelspec": {
   "display_name": "Python 3",
   "language": "python",
   "name": "python3"
  },
  "language_info": {
   "codemirror_mode": {
    "name": "ipython",
    "version": 3
   },
   "file_extension": ".py",
   "mimetype": "text/x-python",
   "name": "python",
   "nbconvert_exporter": "python",
   "pygments_lexer": "ipython3",
   "version": "3.6.8"
  },
  "varInspector": {
   "cols": {
    "lenName": 16,
    "lenType": 16,
    "lenVar": 40
   },
   "kernels_config": {
    "python": {
     "delete_cmd_postfix": "",
     "delete_cmd_prefix": "del ",
     "library": "var_list.py",
     "varRefreshCmd": "print(var_dic_list())"
    },
    "r": {
     "delete_cmd_postfix": ") ",
     "delete_cmd_prefix": "rm(",
     "library": "var_list.r",
     "varRefreshCmd": "cat(var_dic_list()) "
    }
   },
   "types_to_exclude": [
    "module",
    "function",
    "builtin_function_or_method",
    "instance",
    "_Feature"
   ],
   "window_display": false
  }
 },
 "nbformat": 4,
 "nbformat_minor": 4
}
